{
  "cells": [
    {
      "cell_type": "markdown",
      "metadata": {
        "id": "view-in-github",
        "colab_type": "text"
      },
      "source": [
        "<a href=\"https://colab.research.google.com/github/bcolorado/ML-course/blob/main/LAB_05_01_MEASURING_PREDICTIVITY_IMPACT.ipynb\" target=\"_parent\"><img src=\"https://colab.research.google.com/assets/colab-badge.svg\" alt=\"Open In Colab\"/></a>"
      ]
    },
    {
      "cell_type": "markdown",
      "metadata": {
        "id": "vgOHLACGtKdH"
      },
      "source": [
        "# LAB 05.01 - Predictions impact"
      ]
    },
    {
      "cell_type": "code",
      "execution_count": 1,
      "metadata": {
        "id": "EXiRAGPHtKdK",
        "colab": {
          "base_uri": "https://localhost:8080/",
          "height": 75
        },
        "outputId": "2fdc94da-f8fe-41cb-c18e-0609592d2fd0"
      },
      "outputs": [
        {
          "output_type": "display_data",
          "data": {
            "text/plain": [
              "<IPython.core.display.HTML object>"
            ],
            "text/html": [
              "\n",
              "<meta name=\"google-signin-client_id\"\n",
              "      content=\"461673936472-kdjosv61up3ac1ajeuq6qqu72upilmls.apps.googleusercontent.com\"/>\n",
              "<script src=\"https://apis.google.com/js/client:platform.js?onload=google_button_start\"></script>\n",
              "    "
            ]
          },
          "metadata": {}
        },
        {
          "output_type": "stream",
          "name": "stdout",
          "text": [
            "replicating local resources\n"
          ]
        },
        {
          "output_type": "execute_result",
          "data": {
            "text/plain": [
              "<IPython.core.display.HTML object>"
            ],
            "text/html": [
              "<h3>See <a href='https://m5knaekxo6.execute-api.us-west-2.amazonaws.com/dev-v0001/rlxmooc/web/login' target='_blank'>my courses and progress</a></h2>"
            ]
          },
          "metadata": {},
          "execution_count": 1
        }
      ],
      "source": [
        "!wget --no-cache -O init.py -q https://raw.githubusercontent.com/fagonzalezo/ai4eng-unal/main/content/init.py\n",
        "import init; init.init(force_download=False); init.get_weblink()\n"
      ]
    },
    {
      "cell_type": "code",
      "execution_count": 17,
      "metadata": {
        "id": "TnRfCcq7tKdL",
        "colab": {
          "base_uri": "https://localhost:8080/",
          "height": 116,
          "referenced_widgets": [
            "4417ac601e344d129ebcfda7a90d05a0",
            "56a9f473aec641c7abb4966ebf6df104",
            "9c9f2d4c4c734890823ae3e95f0a2b3f",
            "e5f4f6599ee648839e7e06da661a351f",
            "f2656cedd6654ebab460aef986b90d81",
            "37f1bd989b0e46c2aca68a4f9d6afe5f",
            "bb3145e38c5e42adab805bfb4a3f970d",
            "5ae8982ac9eb4da08797225eb32902a5",
            "f04e89ae401040f38270f4eba5be920f",
            "b1472a4246074b3799d2ecfd31e0069f",
            "0ae1eac9d7ff474bb00b64b969a0b0cb",
            "e040a1f27faa4be3a7fa510f270b43d1",
            "29f9f9375ec84f0480b91ae2cba5d8fb",
            "2bbd8e96b19e4fdf80921a54c5fd9f62",
            "ba832a46cab847d18f25f2393857db1e",
            "7cc0b93e6c0a474cb910a615f5035a34",
            "ea6baa50db514045ba439cdb2ea890fd",
            "78a122f886f641e6a55c8c9910f89eb8",
            "b86398e3a93d471b98f9aa1ae41d73d0"
          ]
        },
        "outputId": "bc837cda-a1e9-4b7b-f65b-694583fc59c6"
      },
      "outputs": [
        {
          "output_type": "stream",
          "name": "stdout",
          "text": [
            "logging in as bcolorado@unal.edu.co... please wait\n",
            "using course session ai4eng.v1.unal::intro_si_2024_1\n",
            "success!! you are logged in\n"
          ]
        }
      ],
      "source": [
        "from local.lib.rlxmoocapi import submit, session\n",
        "session.LoginSequence(endpoint=init.endpoint, course_id=init.course_id, lab_id=\"L05.01\", varname=\"student\");"
      ]
    },
    {
      "cell_type": "code",
      "execution_count": null,
      "metadata": {
        "id": "_pRSsQVYtKdL"
      },
      "outputs": [],
      "source": []
    },
    {
      "cell_type": "markdown",
      "metadata": {
        "id": "Ii0LwFeqtKdM"
      },
      "source": [
        "## Task 1. Compute PNL from strategy\n",
        "\n",
        "observe the following signal `s`, and model trend predictions `p` (not perfect predictions!!)"
      ]
    },
    {
      "cell_type": "code",
      "execution_count": 3,
      "metadata": {
        "id": "ovOM5y2atKdM",
        "colab": {
          "base_uri": "https://localhost:8080/"
        },
        "outputId": "2952f7be-9ad1-4d9d-e922-00aab6055849"
      },
      "outputs": [
        {
          "output_type": "stream",
          "name": "stdout",
          "text": [
            "(20,) (19,)\n"
          ]
        }
      ],
      "source": [
        "import numpy as np\n",
        "import matplotlib.pyplot as plt\n",
        "import pandas as pd\n",
        "%matplotlib inline\n",
        "s = np.round((np.random.normal(size=20)*5+.5).cumsum()+100,2)\n",
        "p = (np.random.random(size=len(s)-1)>.3).astype(int)\n",
        "print (s.shape, p.shape)"
      ]
    },
    {
      "cell_type": "code",
      "execution_count": 4,
      "metadata": {
        "id": "ZEdhyILUtKdM",
        "outputId": "0240c9a3-3ab5-440e-cf61-0a28258c3729",
        "colab": {
          "base_uri": "https://localhost:8080/",
          "height": 501
        }
      },
      "outputs": [
        {
          "output_type": "stream",
          "name": "stdout",
          "text": [
            "SIGNAL     [100.28 106.5  104.54 107.55 109.82 110.75 110.1  111.01 110.44 107.4\n",
            " 104.33 106.34 103.94  97.76  98.37  94.16  96.5  100.59 103.25 106.47]\n",
            "PREDICTION [1 1 1 1 0 0 1 1 0 1 1 1 1 1 0 0 0 0 1]\n"
          ]
        },
        {
          "output_type": "display_data",
          "data": {
            "text/plain": [
              "<Figure size 640x480 with 1 Axes>"
            ],
            "image/png": "[encoded data removed]"
          },
          "metadata": {}
        }
      ],
      "source": [
        "\n",
        "plt.plot(s, color=\"black\")\n",
        "plt.scatter(np.arange(len(p))[p==0], s[:-1][p==0], color=\"red\", label=\"prediction down\")\n",
        "plt.scatter(np.arange(len(p))[p==1], s[:-1][p==1], color=\"blue\", label=\"prediction up\")\n",
        "plt.grid(); plt.legend(); plt.xlabel(\"time instant\"); plt.ylabel(\"price\")\n",
        "plt.xticks(range(len(s)), range(len(s)))\n",
        "pd.DataFrame(np.vstack((s,list(p)+[np.nan])), index=[\"signal\", \"prediction\"])\n",
        "print (\"SIGNAL    \", s)\n",
        "print (\"PREDICTION\", p)\n"
      ]
    },
    {
      "cell_type": "markdown",
      "metadata": {
        "id": "-FFmBRextKdN"
      },
      "source": [
        "fill in the `pnl` variable below with a list of 19 values corresponding on applying the same strategy as in the notes, buying or selling always ONE money unit:\n",
        "\n",
        "- if the prediction is zero, we believe the price is going down, so we sell ONE money unit at the current price and buy it at the next instant of time\n",
        "- if the prediction is one, we do the opposite\n",
        "- BUT there is a **commission** of 1%, applied on the instant you make the first operation (which uses the current price)\n",
        "\n",
        "observe that there are 20 signal points, and 19 predictions.\n",
        "\n",
        "you can use your tool of choice (Excel, Python, etc.) to compute your answer\n",
        "\n",
        "**HINT**: Understand each component of the expression for `perfect_prediction` below to try to obtain your answer with Python."
      ]
    },
    {
      "cell_type": "markdown",
      "metadata": {
        "id": "XJTnYUMltKdN"
      },
      "source": [
        "\n",
        "\n",
        "**For instance**: the following signal and predictions:"
      ]
    },
    {
      "cell_type": "code",
      "execution_count": 5,
      "metadata": {
        "id": "M4kyqhS7tKdO",
        "outputId": "93408760-54bd-4fa5-beeb-1d5ead104999",
        "colab": {
          "base_uri": "https://localhost:8080/",
          "height": 294
        }
      },
      "outputs": [
        {
          "output_type": "execute_result",
          "data": {
            "image/png": "[encoded data removed]",
            "text/plain": [
              "<IPython.core.display.Image object>"
            ]
          },
          "metadata": {
            "image/png": {
              "width": 600
            }
          },
          "execution_count": 5
        }
      ],
      "source": [
        "\n",
        "from IPython.display import Image\n",
        "Image(\"local/imgs/timeseries-prediction.png\", width=600)\n"
      ]
    },
    {
      "cell_type": "markdown",
      "metadata": {
        "id": "AsZ6miZTtKdO"
      },
      "source": [
        "produce the following set of PNL\n",
        "\n",
        "     2.65 7.86 -0.31 7.48 2.61 2.19 1.33 -2.08 -2.71 -2.88 0.42 -5.39 3.03 1.53 3.45 9.88 10.70 -7.69 -0.60\n",
        "     \n",
        "- at `t=0` the PNL is $(107.06-103.38)\\times 1 - 103.38\\times 1 \\times .01=2.65$, since the prediction was correct\n",
        "- at `t=2` the PNL is $(116.84-115.99)\\times 1 - 115.99\\times 1 \\times .01=-0.31$, since the prediction was correct, BUT the price difference is small and the commission overcomes the profit.\n",
        "- at `t=7` the PNL is $(111.76 - 112.71)\\times1 - 112.71\\times1\\times.01=-2.08$, since the prediction was incorrect\n",
        "\n",
        "\n",
        "in the expressions above, the first term is the net profit or loss, and the second one is due to the commission. Multiplication by $1$ simply signals we are trading ONE unit."
      ]
    },
    {
      "cell_type": "markdown",
      "metadata": {
        "id": "cLaAorxBtKdO"
      },
      "source": [
        "also, observe that the following python code, will generate a perfect prediction signal, which, when applied to our strategy, will result in a list of all positive PNLs."
      ]
    },
    {
      "cell_type": "code",
      "execution_count": 6,
      "metadata": {
        "id": "PuyzNr3DtKdO",
        "colab": {
          "base_uri": "https://localhost:8080/"
        },
        "outputId": "c463c95b-7a4e-4645-bc62-c62beb9b04cd"
      },
      "outputs": [
        {
          "output_type": "execute_result",
          "data": {
            "text/plain": [
              "array([1, 0, 1, 1, 1, 0, 1, 0, 0, 0, 1, 0, 0, 1, 0, 1, 1, 1, 1])"
            ]
          },
          "metadata": {},
          "execution_count": 6
        }
      ],
      "source": [
        "perfect_prediction = (s[1:]>s[:-1]).astype(int)\n",
        "perfect_prediction"
      ]
    },
    {
      "cell_type": "markdown",
      "metadata": {
        "id": "E9A64A1WtKdO"
      },
      "source": [
        "**CHALLENGE 1** (not mandatory): make your answer in python\n",
        "\n",
        "**hints**:\n",
        "\n",
        "    s[1:]            will give you all elements of s except the first one\n",
        "    s[:-1]           will give you all elements of s except the last one\n",
        "    s[1:] - s[:-1]   will give you the difference of price in one time with respect to the next one\n",
        "    (p-0.5)*2        will convert vector p (containing 0's and 1's) into a vector of -1's and +1's"
      ]
    },
    {
      "cell_type": "markdown",
      "metadata": {
        "id": "Mu0715HatKdP"
      },
      "source": [
        "**fill in the following variable**"
      ]
    },
    {
      "cell_type": "code",
      "execution_count": 7,
      "metadata": {
        "id": "6fJx4QO-tKdP"
      },
      "outputs": [],
      "source": [
        "pnl = list((s[1:] - s[:-1])*(p-.5)*2 - .01*s[:-1])"
      ]
    },
    {
      "cell_type": "markdown",
      "metadata": {
        "id": "oY7_ygZDtKdP"
      },
      "source": [
        "**submit your answer**"
      ]
    },
    {
      "cell_type": "code",
      "execution_count": 8,
      "metadata": {
        "scrolled": false,
        "id": "E093Nt26tKdQ",
        "colab": {
          "base_uri": "https://localhost:8080/",
          "height": 111
        },
        "outputId": "88d865f4-d04e-43d7-90ee-4f82aac0a2d9"
      },
      "outputs": [
        {
          "output_type": "display_data",
          "data": {
            "text/plain": [
              "<IPython.core.display.HTML object>"
            ],
            "text/html": [
              "\n",
              "                    <b>task_01 submitted.</b> <b><font color=\"blue\">your grade is 5</font></b> \n",
              "                    <p/><pre>----- grader message -------</pre><b>correct</b><pre>----------------------------</pre>\n",
              "                    <p/><p/>\n",
              "                    <div style=\"font-size:10px\"><b>SUBMISSION CODE</b> NTyu4rWe17LYrHyfZnCH6VTO8Rf+Le8/n1OIPHQjeEMEK/TusIfEw5aynfb3o39aDUzD+anmGybgx/iAaKlrmnhRCOuzN83RwOqLQKQKn3gKsKMCb/JLIdnsBTxzQ1NWN1fpeKTv3o0rvGww9MXbRHlGNP4auoxzxKe/mJ6WqZQ=</div>\n",
              "                    "
            ]
          },
          "metadata": {}
        }
      ],
      "source": [
        "student.submit_task(globals(), task_id=\"task_01\");"
      ]
    },
    {
      "cell_type": "markdown",
      "metadata": {
        "id": "96KaIyFAtKdQ"
      },
      "source": [
        "## Task 2: Simulated prediction signal"
      ]
    },
    {
      "cell_type": "markdown",
      "metadata": {
        "id": "VGM3EFRstKdQ"
      },
      "source": [
        "given the following signal, produce a synthetic prediction signal with the given percentage of correct predictions.\n",
        "\n",
        "observe that `s` has length 21, but your synthetic prediction will have a length of 20.\n",
        "\n",
        "fill in the variable `prediction`, with a list with 20 zeros or ones, containing a prediction with `acc` correct predictions.\n",
        "\n",
        "for instance, with the following signal\n",
        "\n",
        "        [100.37 102.92 102.69 104.57 105.06  97.9  103.   100.32  97.59 107.07\n",
        "         112.19 106.32 104.14 100.3   97.03 107.28 100.36 100.99 111.48 117.07\n",
        "         126.04]\n",
        "         \n",
        "the following predictions:\n",
        "\n",
        "        p = [1, 0, 1, 0, 0, 1, 1, 1, 1, 1, 1, 0, 0, 1, 1, 0, 0, 1, 0, 0]\n",
        "        \n",
        "produce a trend prediction accuracy of 60% (`acc=0.6`)\n",
        "\n",
        "**HINT**: Do it in Python\n",
        "\n",
        "- use the perfect prediction from the exercise above to start with.\n",
        "- use `np.random.permutation`\n",
        "\n",
        "for instance:"
      ]
    },
    {
      "cell_type": "code",
      "execution_count": 9,
      "metadata": {
        "id": "Gan2XX44tKdQ",
        "outputId": "a1cf90c3-965c-455b-ac5e-c9c31a074466",
        "colab": {
          "base_uri": "https://localhost:8080/"
        }
      },
      "outputs": [
        {
          "output_type": "stream",
          "name": "stdout",
          "text": [
            "[2 1 7]\n"
          ]
        },
        {
          "output_type": "execute_result",
          "data": {
            "text/plain": [
              "array([10, 21, 31, 40, 50, 60, 70, 81, 90])"
            ]
          },
          "metadata": {},
          "execution_count": 9
        }
      ],
      "source": [
        "\n",
        "# a list\n",
        "a = np.r_[10,20,30,40,50,60,70,80,90]\n",
        "\n",
        "# 3 positions randomly chosen\n",
        "k = np.random.permutation(len(a)-1)[:3]\n",
        "print (k)\n",
        "\n",
        "# changing the value of the items on those positions\n",
        "a[k] = a[k] + 1\n",
        "a\n"
      ]
    },
    {
      "cell_type": "code",
      "execution_count": null,
      "metadata": {
        "id": "wZv_-VFAtKdQ"
      },
      "outputs": [],
      "source": []
    },
    {
      "cell_type": "markdown",
      "metadata": {
        "id": "peyP0409tKdQ"
      },
      "source": [
        "**your signal and target accuracy to achieve**"
      ]
    },
    {
      "cell_type": "code",
      "execution_count": 10,
      "metadata": {
        "id": "yjD9-VMstKdQ",
        "outputId": "b788aff8-fcac-47e2-8751-adb3a41ab9d3",
        "colab": {
          "base_uri": "https://localhost:8080/"
        }
      },
      "outputs": [
        {
          "output_type": "stream",
          "name": "stdout",
          "text": [
            "YOUR SIGNAL [102.18 100.98 101.77 110.59 110.62 107.51 105.59 100.16 107.25 109.83\n",
            " 116.5  113.6  114.11 112.67 118.88 110.59 120.04 123.26 123.8  121.91\n",
            " 120.3 ]\n",
            "THE ACCURACY YOUR SYNTHETIC PREDICTIONS MUST ACHIEVE:  0.9\n"
          ]
        }
      ],
      "source": [
        "\n",
        "s = ((np.random.normal(size=21)*5+.5).cumsum()+100).round(2)\n",
        "acc = np.round(np.random.random()*.9+.1, 1)\n",
        "print (\"YOUR SIGNAL\", s)\n",
        "print (\"THE ACCURACY YOUR SYNTHETIC PREDICTIONS MUST ACHIEVE: \", acc)\n"
      ]
    },
    {
      "cell_type": "code",
      "execution_count": 11,
      "metadata": {
        "id": "H5Y5s51ttKdR"
      },
      "outputs": [],
      "source": [
        "p = (s[:-1] < s[1:]) # se observa donde sube y baja la señal (True si sube)\n",
        "# se obtienen n posiciones aleatorias, n depende del acc\n",
        "pos = np.random.permutation(len(s)-1)[:int(len(s)*(1 - acc))]\n",
        "# en esas posiciones se cambian las bajadas por subidas y viceversa\n",
        "p[pos] = ~p[pos]\n",
        "# se genera una predicción que simula el acc que nos dan al inicio\n",
        "my_synthetic_prediction = list(p.astype(int))"
      ]
    },
    {
      "cell_type": "code",
      "execution_count": null,
      "metadata": {
        "id": "S759La9StKdR"
      },
      "outputs": [],
      "source": []
    },
    {
      "cell_type": "markdown",
      "metadata": {
        "id": "XJ42ZiwStKdR"
      },
      "source": [
        "**submit your answer**"
      ]
    },
    {
      "cell_type": "code",
      "execution_count": 12,
      "metadata": {
        "scrolled": true,
        "id": "ZLmCu2JktKdR",
        "colab": {
          "base_uri": "https://localhost:8080/",
          "height": 111
        },
        "outputId": "b702dd56-b104-45e5-f45e-d44657973578"
      },
      "outputs": [
        {
          "output_type": "display_data",
          "data": {
            "text/plain": [
              "<IPython.core.display.HTML object>"
            ],
            "text/html": [
              "\n",
              "                    <b>task_02 submitted.</b> <b><font color=\"blue\">your grade is 5</font></b> \n",
              "                    <p/><pre>----- grader message -------</pre><b>correct</b><pre>----------------------------</pre>\n",
              "                    <p/><p/>\n",
              "                    <div style=\"font-size:10px\"><b>SUBMISSION CODE</b> KP35od87ziRiFNeD5AJI69DTBzOXN7q56VHZlVl1Hikwtq6+PJ/bPUVoM2k78kle3Iwjnho40goARl0oV9/UlptRAozwuUtZOAOdyb0PzUL/5cEfUHhctVW5Dm2N0LNK8hisxl1wOYyv251F8BYOzLRpSoCwY06/sWuVLfsRzuo=</div>\n",
              "                    "
            ]
          },
          "metadata": {}
        }
      ],
      "source": [
        "student.submit_task(globals(), task_id=\"task_02\");"
      ]
    },
    {
      "cell_type": "code",
      "execution_count": null,
      "metadata": {
        "id": "HS6cj_TJtKdR"
      },
      "outputs": [],
      "source": []
    },
    {
      "cell_type": "markdown",
      "metadata": {
        "id": "UWy8VRMJtKdR"
      },
      "source": [
        "## Task 3: ML Metric vs Business Metric\n",
        "\n",
        "now, your are given a signal (length=21) and you will have to create\n",
        "\n",
        "- an array of 9 rows x 20 columns with synthetic predictions so that the first row (row number zero in python) has accuracy of 10%, the second has 20%, etc.\n",
        "- a list of 9 numbers containing the PNL of using the synthetic predictions on the above array as input for a trading strategy.\n",
        "\n",
        "for instance, for this signal:\n",
        "\n",
        "    [101.33,  96.75,  98.2 ,  95.3 ,  97.96,  98.75,  92.46,  82.2 , 78.61,  80.  ,  \n",
        "      88.78,  98.72, 103.22, 113.65, 103.89, 107.36, 114.6 , 103.9 , 108.71, 104.2 , 107.8 ]\n",
        "\n",
        "you will have to create the following variables:\n",
        "\n",
        "    pset = np.array([[1, 1, 1, 0, 0, 1, 1, 1, 0, 0, 0, 0, 0, 1, 1, 0, 1, 0, 1, 0],\n",
        "                     [1, 0, 1, 0, 0, 1, 1, 1, 0, 1, 0, 1, 1, 1, 0, 1, 1, 0, 1, 0],\n",
        "                     [1, 0, 0, 0, 0, 0, 1, 1, 0, 1, 0, 1, 0, 1, 0, 1, 1, 0, 0, 0],\n",
        "                     [1, 0, 0, 0, 0, 1, 1, 1, 1, 1, 0, 1, 1, 1, 1, 1, 1, 0, 1, 1],\n",
        "                     [1, 1, 0, 0, 0, 0, 0, 0, 0, 0, 1, 1, 1, 0, 0, 0, 1, 0, 0, 0],\n",
        "                     [0, 1, 0, 1, 1, 1, 0, 0, 1, 1, 0, 0, 1, 1, 0, 0, 1, 1, 0, 0],\n",
        "                     [0, 1, 1, 0, 1, 0, 1, 0, 1, 1, 1, 1, 0, 0, 0, 1, 0, 1, 1, 1],\n",
        "                     [0, 1, 0, 1, 1, 0, 1, 0, 1, 1, 1, 1, 1, 0, 0, 0, 0, 1, 1, 1],\n",
        "                     [0, 1, 0, 0, 1, 0, 0, 0, 1, 1, 1, 1, 1, 0, 1, 1, 0, 0, 0, 1]])\n",
        "\n",
        "    \n",
        "    pnl = np.array([-121.5, -69.44, -62.90, -46.72, -4.08, -19.04, 23.5, 41.0, 77.02])\n",
        "    \n",
        "**NOTE**: Specify your PNL rounded to **TWO** decimal places"
      ]
    },
    {
      "cell_type": "code",
      "execution_count": 13,
      "metadata": {
        "id": "UIugy-SctKdR",
        "colab": {
          "base_uri": "https://localhost:8080/"
        },
        "outputId": "e9d8c609-0051-43f9-e85d-d4b60be74f28"
      },
      "outputs": [
        {
          "output_type": "execute_result",
          "data": {
            "text/plain": [
              "array([102.83,  99.92,  98.24,  95.26,  92.97,  88.88,  94.4 , 102.51,\n",
              "        96.04,  92.41,  99.54, 100.72, 101.78, 105.45, 103.82, 108.68,\n",
              "       105.79, 107.31, 107.91, 106.21, 103.62])"
            ]
          },
          "metadata": {},
          "execution_count": 13
        }
      ],
      "source": [
        "s = ((np.random.normal(size=21)*5+.5).cumsum()+100).round(2)\n",
        "s"
      ]
    },
    {
      "cell_type": "code",
      "execution_count": 14,
      "metadata": {
        "id": "LCbrM-XMtKdV"
      },
      "outputs": [],
      "source": [
        "pset = []\n",
        "pnl = []\n",
        "tendencia = (s[:-1] < s[1:])\n",
        "for acc in np.linspace(.1, .9, 9):\n",
        "  p = tendencia.copy()\n",
        "  pos = np.random.permutation(len(s)-1)[:int(len(s)*(1 - acc))]\n",
        "  p[pos] = ~p[pos]\n",
        "  pset.append(list(p.astype(int)))\n",
        "  pnl.append(sum((s[1:] - s[:-1])*(p-.5)*2 - .01*s[:-1]))\n",
        "# a 9x20 numpy array\n",
        "pset = np.array(pset)\n",
        "# 9 elements numpy array or list\n",
        "pnl  = np.array(pnl)"
      ]
    },
    {
      "cell_type": "markdown",
      "metadata": {
        "id": "37DRA-I1tKdW"
      },
      "source": [
        "**submit your answer**"
      ]
    },
    {
      "cell_type": "code",
      "execution_count": 18,
      "metadata": {
        "scrolled": true,
        "id": "PKwqi6XKtKdW",
        "colab": {
          "base_uri": "https://localhost:8080/",
          "height": 111
        },
        "outputId": "3b28a298-ed25-4fe5-d954-0b87f13bce19"
      },
      "outputs": [
        {
          "output_type": "display_data",
          "data": {
            "text/plain": [
              "<IPython.core.display.HTML object>"
            ],
            "text/html": [
              "\n",
              "                    <b>task_03 submitted.</b> <b><font color=\"blue\">your grade is 5</font></b> \n",
              "                    <p/><pre>----- grader message -------</pre><b>correct</b><pre>----------------------------</pre>\n",
              "                    <p/><p/>\n",
              "                    <div style=\"font-size:10px\"><b>SUBMISSION CODE</b> AvrogYOYIEqloSUGZSbV0KNYBifhA7WoZy4C3d7OUUSFCtNIvVGGWZC5o9cSggFqfjv+W6wpPHHT1NacA3Uji3D2A7hXeLGYg8av+TB6s2+qv6I2hhMGYWNZJm40PnL4E/Xes7nPsRSwAMg02ix0rVpaw4qinXj2t0CJnB/fUYE=</div>\n",
              "                    "
            ]
          },
          "metadata": {}
        }
      ],
      "source": [
        "student.submit_task(globals(), task_id=\"task_03\");"
      ]
    },
    {
      "cell_type": "code",
      "execution_count": null,
      "metadata": {
        "id": "kf31IB2VtKdW"
      },
      "outputs": [],
      "source": []
    },
    {
      "cell_type": "markdown",
      "metadata": {
        "id": "fZtCmzWBtKdW"
      },
      "source": [
        "### understand accuracy vs. PNL\n",
        "\n",
        "- what is the minimum accuracy from which a model might be profitable?\n",
        "- and if the commision changes?"
      ]
    },
    {
      "cell_type": "code",
      "execution_count": null,
      "metadata": {
        "id": "e0eF_KvntKdW",
        "outputId": "249ca060-a97d-4e5f-803a-a882f865dc4d"
      },
      "outputs": [
        {
          "data": {
            "text/plain": [
              "Text(0, 0.5, 'PNL')"
            ]
          },
          "execution_count": 39,
          "metadata": {},
          "output_type": "execute_result"
        },
        {
          "data": {
            "image/png": "[encoded data removed]",
            "text/plain": [
              "<Figure size 432x288 with 1 Axes>"
            ]
          },
          "metadata": {
            "needs_background": "light"
          },
          "output_type": "display_data"
        }
      ],
      "source": [
        "\n",
        "accuracies = np.linspace(.1,.9,9)\n",
        "plt.plot(accuracies, pnl)\n",
        "plt.axhline(0, color=\"black\", lw=2)\n",
        "plt.title(\"ML metric vs. Busines metric\")\n",
        "plt.grid(); plt.xlabel(\"model accuracy\"); plt.ylabel(\"PNL\")\n"
      ]
    },
    {
      "cell_type": "code",
      "execution_count": null,
      "metadata": {
        "id": "-mfGrXPltKdX"
      },
      "outputs": [],
      "source": []
    }
  ],
  "metadata": {
    "kernelspec": {
      "display_name": "Python 3",
      "language": "python",
      "name": "python3"
    },
    "language_info": {
      "codemirror_mode": {
        "name": "ipython",
        "version": 3
      },
      "file_extension": ".py",
      "mimetype": "text/x-python",
      "name": "python",
      "nbconvert_exporter": "python",
      "pygments_lexer": "ipython3",
      "version": "3.7.3"
    },
    "colab": {
      "provenance": [],
      "include_colab_link": true
    },
    "widgets": {
      "application/vnd.jupyter.widget-state+json": {
        "4417ac601e344d129ebcfda7a90d05a0": {
          "model_module": "@jupyter-widgets/controls",
          "model_name": "HBoxModel",
          "model_module_version": "1.5.0",
          "state": {
            "_dom_classes": [],
            "_model_module": "@jupyter-widgets/controls",
            "_model_module_version": "1.5.0",
            "_model_name": "HBoxModel",
            "_view_count": null,
            "_view_module": "@jupyter-widgets/controls",
            "_view_module_version": "1.5.0",
            "_view_name": "HBoxView",
            "box_style": "",
            "children": [
              "IPY_MODEL_56a9f473aec641c7abb4966ebf6df104",
              "IPY_MODEL_9c9f2d4c4c734890823ae3e95f0a2b3f",
              "IPY_MODEL_e5f4f6599ee648839e7e06da661a351f",
              "IPY_MODEL_f2656cedd6654ebab460aef986b90d81"
            ],
            "layout": "IPY_MODEL_37f1bd989b0e46c2aca68a4f9d6afe5f"
          }
        },
        "56a9f473aec641c7abb4966ebf6df104": {
          "model_module": "@jupyter-widgets/controls",
          "model_name": "VBoxModel",
          "model_module_version": "1.5.0",
          "state": {
            "_dom_classes": [],
            "_model_module": "@jupyter-widgets/controls",
            "_model_module_version": "1.5.0",
            "_model_name": "VBoxModel",
            "_view_count": null,
            "_view_module": "@jupyter-widgets/controls",
            "_view_module_version": "1.5.0",
            "_view_name": "VBoxView",
            "box_style": "",
            "children": [
              "IPY_MODEL_bb3145e38c5e42adab805bfb4a3f970d",
              "IPY_MODEL_5ae8982ac9eb4da08797225eb32902a5"
            ],
            "layout": "IPY_MODEL_f04e89ae401040f38270f4eba5be920f"
          }
        },
        "9c9f2d4c4c734890823ae3e95f0a2b3f": {
          "model_module": "@jupyter-widgets/controls",
          "model_name": "ButtonModel",
          "model_module_version": "1.5.0",
          "state": {
            "_dom_classes": [
              "login_button"
            ],
            "_model_module": "@jupyter-widgets/controls",
            "_model_module_version": "1.5.0",
            "_model_name": "ButtonModel",
            "_view_count": null,
            "_view_module": "@jupyter-widgets/controls",
            "_view_module_version": "1.5.0",
            "_view_name": "ButtonView",
            "button_style": "",
            "description": "Login with email",
            "disabled": false,
            "icon": "",
            "layout": "IPY_MODEL_b1472a4246074b3799d2ecfd31e0069f",
            "style": "IPY_MODEL_0ae1eac9d7ff474bb00b64b969a0b0cb",
            "tooltip": ""
          }
        },
        "e5f4f6599ee648839e7e06da661a351f": {
          "model_module": "@jupyter-widgets/controls",
          "model_name": "HTMLModel",
          "model_module_version": "1.5.0",
          "state": {
            "_dom_classes": [],
            "_model_module": "@jupyter-widgets/controls",
            "_model_module_version": "1.5.0",
            "_model_name": "HTMLModel",
            "_view_count": null,
            "_view_module": "@jupyter-widgets/controls",
            "_view_module_version": "1.5.0",
            "_view_name": "HTMLView",
            "description": "",
            "description_tooltip": null,
            "layout": "IPY_MODEL_e040a1f27faa4be3a7fa510f270b43d1",
            "placeholder": "​",
            "style": "IPY_MODEL_29f9f9375ec84f0480b91ae2cba5d8fb",
            "value": "<center><big>or</big></center>"
          }
        },
        "f2656cedd6654ebab460aef986b90d81": {
          "model_module": "@jupyter-widgets/controls",
          "model_name": "ButtonModel",
          "model_module_version": "1.5.0",
          "state": {
            "_dom_classes": [
              "google_button"
            ],
            "_model_module": "@jupyter-widgets/controls",
            "_model_module_version": "1.5.0",
            "_model_name": "ButtonModel",
            "_view_count": null,
            "_view_module": "@jupyter-widgets/controls",
            "_view_module_version": "1.5.0",
            "_view_name": "ButtonView",
            "button_style": "",
            "description": "Login with Google",
            "disabled": false,
            "icon": "",
            "layout": "IPY_MODEL_2bbd8e96b19e4fdf80921a54c5fd9f62",
            "style": "IPY_MODEL_ba832a46cab847d18f25f2393857db1e",
            "tooltip": ""
          }
        },
        "37f1bd989b0e46c2aca68a4f9d6afe5f": {
          "model_module": "@jupyter-widgets/base",
          "model_name": "LayoutModel",
          "model_module_version": "1.2.0",
          "state": {
            "_model_module": "@jupyter-widgets/base",
            "_model_module_version": "1.2.0",
            "_model_name": "LayoutModel",
            "_view_count": null,
            "_view_module": "@jupyter-widgets/base",
            "_view_module_version": "1.2.0",
            "_view_name": "LayoutView",
            "align_content": null,
            "align_items": null,
            "align_self": null,
            "border": null,
            "bottom": null,
            "display": null,
            "flex": null,
            "flex_flow": null,
            "grid_area": null,
            "grid_auto_columns": null,
            "grid_auto_flow": null,
            "grid_auto_rows": null,
            "grid_column": null,
            "grid_gap": null,
            "grid_row": null,
            "grid_template_areas": null,
            "grid_template_columns": null,
            "grid_template_rows": null,
            "height": null,
            "justify_content": null,
            "justify_items": null,
            "left": null,
            "margin": null,
            "max_height": null,
            "max_width": null,
            "min_height": null,
            "min_width": null,
            "object_fit": null,
            "object_position": null,
            "order": null,
            "overflow": null,
            "overflow_x": null,
            "overflow_y": null,
            "padding": null,
            "right": null,
            "top": null,
            "visibility": null,
            "width": null
          }
        },
        "bb3145e38c5e42adab805bfb4a3f970d": {
          "model_module": "@jupyter-widgets/controls",
          "model_name": "TextModel",
          "model_module_version": "1.5.0",
          "state": {
            "_dom_classes": [],
            "_model_module": "@jupyter-widgets/controls",
            "_model_module_version": "1.5.0",
            "_model_name": "TextModel",
            "_view_count": null,
            "_view_module": "@jupyter-widgets/controls",
            "_view_module_version": "1.5.0",
            "_view_name": "TextView",
            "continuous_update": true,
            "description": "email",
            "description_tooltip": null,
            "disabled": false,
            "layout": "IPY_MODEL_7cc0b93e6c0a474cb910a615f5035a34",
            "placeholder": "​",
            "style": "IPY_MODEL_ea6baa50db514045ba439cdb2ea890fd",
            "value": ""
          }
        },
        "5ae8982ac9eb4da08797225eb32902a5": {
          "model_module": "@jupyter-widgets/controls",
          "model_name": "PasswordModel",
          "model_module_version": "1.5.0",
          "state": {
            "_dom_classes": [],
            "_model_module": "@jupyter-widgets/controls",
            "_model_module_version": "1.5.0",
            "_model_name": "PasswordModel",
            "_view_count": null,
            "_view_module": "@jupyter-widgets/controls",
            "_view_module_version": "1.5.0",
            "_view_name": "PasswordView",
            "continuous_update": true,
            "description": "password",
            "description_tooltip": null,
            "disabled": false,
            "layout": "IPY_MODEL_78a122f886f641e6a55c8c9910f89eb8",
            "placeholder": "​",
            "style": "IPY_MODEL_b86398e3a93d471b98f9aa1ae41d73d0",
            "value": ""
          }
        },
        "f04e89ae401040f38270f4eba5be920f": {
          "model_module": "@jupyter-widgets/base",
          "model_name": "LayoutModel",
          "model_module_version": "1.2.0",
          "state": {
            "_model_module": "@jupyter-widgets/base",
            "_model_module_version": "1.2.0",
            "_model_name": "LayoutModel",
            "_view_count": null,
            "_view_module": "@jupyter-widgets/base",
            "_view_module_version": "1.2.0",
            "_view_name": "LayoutView",
            "align_content": null,
            "align_items": null,
            "align_self": null,
            "border": null,
            "bottom": null,
            "display": null,
            "flex": null,
            "flex_flow": null,
            "grid_area": null,
            "grid_auto_columns": null,
            "grid_auto_flow": null,
            "grid_auto_rows": null,
            "grid_column": null,
            "grid_gap": null,
            "grid_row": null,
            "grid_template_areas": null,
            "grid_template_columns": null,
            "grid_template_rows": null,
            "height": null,
            "justify_content": null,
            "justify_items": null,
            "left": null,
            "margin": null,
            "max_height": null,
            "max_width": null,
            "min_height": null,
            "min_width": null,
            "object_fit": null,
            "object_position": null,
            "order": null,
            "overflow": null,
            "overflow_x": null,
            "overflow_y": null,
            "padding": null,
            "right": null,
            "top": null,
            "visibility": null,
            "width": null
          }
        },
        "b1472a4246074b3799d2ecfd31e0069f": {
          "model_module": "@jupyter-widgets/base",
          "model_name": "LayoutModel",
          "model_module_version": "1.2.0",
          "state": {
            "_model_module": "@jupyter-widgets/base",
            "_model_module_version": "1.2.0",
            "_model_name": "LayoutModel",
            "_view_count": null,
            "_view_module": "@jupyter-widgets/base",
            "_view_module_version": "1.2.0",
            "_view_name": "LayoutView",
            "align_content": null,
            "align_items": null,
            "align_self": null,
            "border": null,
            "bottom": null,
            "display": null,
            "flex": null,
            "flex_flow": null,
            "grid_area": null,
            "grid_auto_columns": null,
            "grid_auto_flow": null,
            "grid_auto_rows": null,
            "grid_column": null,
            "grid_gap": null,
            "grid_row": null,
            "grid_template_areas": null,
            "grid_template_columns": null,
            "grid_template_rows": null,
            "height": "53px",
            "justify_content": null,
            "justify_items": null,
            "left": null,
            "margin": null,
            "max_height": null,
            "max_width": null,
            "min_height": null,
            "min_width": null,
            "object_fit": null,
            "object_position": null,
            "order": null,
            "overflow": null,
            "overflow_x": null,
            "overflow_y": null,
            "padding": null,
            "right": null,
            "top": null,
            "visibility": null,
            "width": "150px"
          }
        },
        "0ae1eac9d7ff474bb00b64b969a0b0cb": {
          "model_module": "@jupyter-widgets/controls",
          "model_name": "ButtonStyleModel",
          "model_module_version": "1.5.0",
          "state": {
            "_model_module": "@jupyter-widgets/controls",
            "_model_module_version": "1.5.0",
            "_model_name": "ButtonStyleModel",
            "_view_count": null,
            "_view_module": "@jupyter-widgets/base",
            "_view_module_version": "1.2.0",
            "_view_name": "StyleView",
            "button_color": null,
            "font_weight": ""
          }
        },
        "e040a1f27faa4be3a7fa510f270b43d1": {
          "model_module": "@jupyter-widgets/base",
          "model_name": "LayoutModel",
          "model_module_version": "1.2.0",
          "state": {
            "_model_module": "@jupyter-widgets/base",
            "_model_module_version": "1.2.0",
            "_model_name": "LayoutModel",
            "_view_count": null,
            "_view_module": "@jupyter-widgets/base",
            "_view_module_version": "1.2.0",
            "_view_name": "LayoutView",
            "align_content": null,
            "align_items": null,
            "align_self": null,
            "border": null,
            "bottom": null,
            "display": null,
            "flex": null,
            "flex_flow": null,
            "grid_area": null,
            "grid_auto_columns": null,
            "grid_auto_flow": null,
            "grid_auto_rows": null,
            "grid_column": null,
            "grid_gap": null,
            "grid_row": null,
            "grid_template_areas": null,
            "grid_template_columns": null,
            "grid_template_rows": null,
            "height": null,
            "justify_content": null,
            "justify_items": null,
            "left": null,
            "margin": null,
            "max_height": null,
            "max_width": null,
            "min_height": null,
            "min_width": null,
            "object_fit": null,
            "object_position": null,
            "order": null,
            "overflow": null,
            "overflow_x": null,
            "overflow_y": null,
            "padding": null,
            "right": null,
            "top": null,
            "visibility": null,
            "width": "100px"
          }
        },
        "29f9f9375ec84f0480b91ae2cba5d8fb": {
          "model_module": "@jupyter-widgets/controls",
          "model_name": "DescriptionStyleModel",
          "model_module_version": "1.5.0",
          "state": {
            "_model_module": "@jupyter-widgets/controls",
            "_model_module_version": "1.5.0",
            "_model_name": "DescriptionStyleModel",
            "_view_count": null,
            "_view_module": "@jupyter-widgets/base",
            "_view_module_version": "1.2.0",
            "_view_name": "StyleView",
            "description_width": ""
          }
        },
        "2bbd8e96b19e4fdf80921a54c5fd9f62": {
          "model_module": "@jupyter-widgets/base",
          "model_name": "LayoutModel",
          "model_module_version": "1.2.0",
          "state": {
            "_model_module": "@jupyter-widgets/base",
            "_model_module_version": "1.2.0",
            "_model_name": "LayoutModel",
            "_view_count": null,
            "_view_module": "@jupyter-widgets/base",
            "_view_module_version": "1.2.0",
            "_view_name": "LayoutView",
            "align_content": null,
            "align_items": null,
            "align_self": null,
            "border": null,
            "bottom": null,
            "display": null,
            "flex": null,
            "flex_flow": null,
            "grid_area": null,
            "grid_auto_columns": null,
            "grid_auto_flow": null,
            "grid_auto_rows": null,
            "grid_column": null,
            "grid_gap": null,
            "grid_row": null,
            "grid_template_areas": null,
            "grid_template_columns": null,
            "grid_template_rows": null,
            "height": "53px",
            "justify_content": null,
            "justify_items": null,
            "left": null,
            "margin": null,
            "max_height": null,
            "max_width": null,
            "min_height": null,
            "min_width": null,
            "object_fit": null,
            "object_position": null,
            "order": null,
            "overflow": null,
            "overflow_x": null,
            "overflow_y": null,
            "padding": null,
            "right": null,
            "top": null,
            "visibility": null,
            "width": "200px"
          }
        },
        "ba832a46cab847d18f25f2393857db1e": {
          "model_module": "@jupyter-widgets/controls",
          "model_name": "ButtonStyleModel",
          "model_module_version": "1.5.0",
          "state": {
            "_model_module": "@jupyter-widgets/controls",
            "_model_module_version": "1.5.0",
            "_model_name": "ButtonStyleModel",
            "_view_count": null,
            "_view_module": "@jupyter-widgets/base",
            "_view_module_version": "1.2.0",
            "_view_name": "StyleView",
            "button_color": null,
            "font_weight": ""
          }
        },
        "7cc0b93e6c0a474cb910a615f5035a34": {
          "model_module": "@jupyter-widgets/base",
          "model_name": "LayoutModel",
          "model_module_version": "1.2.0",
          "state": {
            "_model_module": "@jupyter-widgets/base",
            "_model_module_version": "1.2.0",
            "_model_name": "LayoutModel",
            "_view_count": null,
            "_view_module": "@jupyter-widgets/base",
            "_view_module_version": "1.2.0",
            "_view_name": "LayoutView",
            "align_content": null,
            "align_items": null,
            "align_self": null,
            "border": null,
            "bottom": null,
            "display": null,
            "flex": null,
            "flex_flow": null,
            "grid_area": null,
            "grid_auto_columns": null,
            "grid_auto_flow": null,
            "grid_auto_rows": null,
            "grid_column": null,
            "grid_gap": null,
            "grid_row": null,
            "grid_template_areas": null,
            "grid_template_columns": null,
            "grid_template_rows": null,
            "height": "25px",
            "justify_content": null,
            "justify_items": null,
            "left": null,
            "margin": null,
            "max_height": null,
            "max_width": null,
            "min_height": null,
            "min_width": null,
            "object_fit": null,
            "object_position": null,
            "order": null,
            "overflow": null,
            "overflow_x": null,
            "overflow_y": null,
            "padding": null,
            "right": null,
            "top": null,
            "visibility": null,
            "width": "300px"
          }
        },
        "ea6baa50db514045ba439cdb2ea890fd": {
          "model_module": "@jupyter-widgets/controls",
          "model_name": "DescriptionStyleModel",
          "model_module_version": "1.5.0",
          "state": {
            "_model_module": "@jupyter-widgets/controls",
            "_model_module_version": "1.5.0",
            "_model_name": "DescriptionStyleModel",
            "_view_count": null,
            "_view_module": "@jupyter-widgets/base",
            "_view_module_version": "1.2.0",
            "_view_name": "StyleView",
            "description_width": ""
          }
        },
        "78a122f886f641e6a55c8c9910f89eb8": {
          "model_module": "@jupyter-widgets/base",
          "model_name": "LayoutModel",
          "model_module_version": "1.2.0",
          "state": {
            "_model_module": "@jupyter-widgets/base",
            "_model_module_version": "1.2.0",
            "_model_name": "LayoutModel",
            "_view_count": null,
            "_view_module": "@jupyter-widgets/base",
            "_view_module_version": "1.2.0",
            "_view_name": "LayoutView",
            "align_content": null,
            "align_items": null,
            "align_self": null,
            "border": null,
            "bottom": null,
            "display": null,
            "flex": null,
            "flex_flow": null,
            "grid_area": null,
            "grid_auto_columns": null,
            "grid_auto_flow": null,
            "grid_auto_rows": null,
            "grid_column": null,
            "grid_gap": null,
            "grid_row": null,
            "grid_template_areas": null,
            "grid_template_columns": null,
            "grid_template_rows": null,
            "height": "24px",
            "justify_content": null,
            "justify_items": null,
            "left": null,
            "margin": null,
            "max_height": null,
            "max_width": null,
            "min_height": null,
            "min_width": null,
            "object_fit": null,
            "object_position": null,
            "order": null,
            "overflow": null,
            "overflow_x": null,
            "overflow_y": null,
            "padding": null,
            "right": null,
            "top": null,
            "visibility": null,
            "width": "300px"
          }
        },
        "b86398e3a93d471b98f9aa1ae41d73d0": {
          "model_module": "@jupyter-widgets/controls",
          "model_name": "DescriptionStyleModel",
          "model_module_version": "1.5.0",
          "state": {
            "_model_module": "@jupyter-widgets/controls",
            "_model_module_version": "1.5.0",
            "_model_name": "DescriptionStyleModel",
            "_view_count": null,
            "_view_module": "@jupyter-widgets/base",
            "_view_module_version": "1.2.0",
            "_view_name": "StyleView",
            "description_width": ""
          }
        }
      }
    }
  },
  "nbformat": 4,
  "nbformat_minor": 0
}